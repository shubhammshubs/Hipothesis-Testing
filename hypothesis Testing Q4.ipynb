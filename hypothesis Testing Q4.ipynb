{
 "cells": [
  {
   "cell_type": "markdown",
   "id": "8fd6c82f",
   "metadata": {},
   "source": [
    "# Hypothesis Testing Q4 "
   ]
  },
  {
   "attachments": {},
   "cell_type": "markdown",
   "id": "7ba936a6",
   "metadata": {},
   "source": [
    " TeleCall uses 4 centers around the globe to process customer order forms. They audit a certain %  of the customer order forms. Any error in order form renders it defective and has to be reworked before processing.  The manager wants to check whether the defective %  varies by centre. Please analyze the data at 5% significance level and help the manager draw appropriate inferences\n"
   ]
  },
  {
   "cell_type": "markdown",
   "id": "1bc488f3",
   "metadata": {},
   "source": [
    "# 1 - Business Problem\n",
    "Does the defective % varies significantly by centre ? "
   ]
  },
  {
   "cell_type": "markdown",
   "id": "e63c5c95",
   "metadata": {},
   "source": [
    "# 2 - Data description\n",
    "α == 0.05 (95% Confidence)\n",
    "\n",
    "Y == Discrete\n",
    "X == Discrete\n",
    "\n",
    "Since there are more than 2 variable we will perform Chi-Square test "
   ]
  },
  {
   "cell_type": "markdown",
   "id": "64310497",
   "metadata": {},
   "source": [
    "# 3 - Import Libs/Data "
   ]
  },
  {
   "cell_type": "code",
   "execution_count": 2,
   "id": "4d6798fa",
   "metadata": {},
   "outputs": [],
   "source": [
    "import pandas as pd\n",
    "import numpy as np\n",
    "from scipy import stats\n",
    "from scipy.stats import norm\n",
    "from scipy.stats import chi2_contingency"
   ]
  },
  {
   "cell_type": "code",
   "execution_count": 3,
   "id": "b39efac6",
   "metadata": {},
   "outputs": [
    {
     "data": {
      "text/html": [
       "<div>\n",
       "<style scoped>\n",
       "    .dataframe tbody tr th:only-of-type {\n",
       "        vertical-align: middle;\n",
       "    }\n",
       "\n",
       "    .dataframe tbody tr th {\n",
       "        vertical-align: top;\n",
       "    }\n",
       "\n",
       "    .dataframe thead th {\n",
       "        text-align: right;\n",
       "    }\n",
       "</style>\n",
       "<table border=\"1\" class=\"dataframe\">\n",
       "  <thead>\n",
       "    <tr style=\"text-align: right;\">\n",
       "      <th></th>\n",
       "      <th>Phillippines</th>\n",
       "      <th>Indonesia</th>\n",
       "      <th>Malta</th>\n",
       "      <th>India</th>\n",
       "    </tr>\n",
       "  </thead>\n",
       "  <tbody>\n",
       "    <tr>\n",
       "      <th>0</th>\n",
       "      <td>Error Free</td>\n",
       "      <td>Error Free</td>\n",
       "      <td>Defective</td>\n",
       "      <td>Error Free</td>\n",
       "    </tr>\n",
       "    <tr>\n",
       "      <th>1</th>\n",
       "      <td>Error Free</td>\n",
       "      <td>Error Free</td>\n",
       "      <td>Error Free</td>\n",
       "      <td>Defective</td>\n",
       "    </tr>\n",
       "    <tr>\n",
       "      <th>2</th>\n",
       "      <td>Error Free</td>\n",
       "      <td>Defective</td>\n",
       "      <td>Defective</td>\n",
       "      <td>Error Free</td>\n",
       "    </tr>\n",
       "    <tr>\n",
       "      <th>3</th>\n",
       "      <td>Error Free</td>\n",
       "      <td>Error Free</td>\n",
       "      <td>Error Free</td>\n",
       "      <td>Error Free</td>\n",
       "    </tr>\n",
       "    <tr>\n",
       "      <th>4</th>\n",
       "      <td>Error Free</td>\n",
       "      <td>Error Free</td>\n",
       "      <td>Defective</td>\n",
       "      <td>Error Free</td>\n",
       "    </tr>\n",
       "    <tr>\n",
       "      <th>...</th>\n",
       "      <td>...</td>\n",
       "      <td>...</td>\n",
       "      <td>...</td>\n",
       "      <td>...</td>\n",
       "    </tr>\n",
       "    <tr>\n",
       "      <th>295</th>\n",
       "      <td>Error Free</td>\n",
       "      <td>Error Free</td>\n",
       "      <td>Error Free</td>\n",
       "      <td>Error Free</td>\n",
       "    </tr>\n",
       "    <tr>\n",
       "      <th>296</th>\n",
       "      <td>Error Free</td>\n",
       "      <td>Error Free</td>\n",
       "      <td>Error Free</td>\n",
       "      <td>Error Free</td>\n",
       "    </tr>\n",
       "    <tr>\n",
       "      <th>297</th>\n",
       "      <td>Error Free</td>\n",
       "      <td>Error Free</td>\n",
       "      <td>Defective</td>\n",
       "      <td>Error Free</td>\n",
       "    </tr>\n",
       "    <tr>\n",
       "      <th>298</th>\n",
       "      <td>Error Free</td>\n",
       "      <td>Error Free</td>\n",
       "      <td>Error Free</td>\n",
       "      <td>Error Free</td>\n",
       "    </tr>\n",
       "    <tr>\n",
       "      <th>299</th>\n",
       "      <td>Error Free</td>\n",
       "      <td>Defective</td>\n",
       "      <td>Defective</td>\n",
       "      <td>Error Free</td>\n",
       "    </tr>\n",
       "  </tbody>\n",
       "</table>\n",
       "<p>300 rows × 4 columns</p>\n",
       "</div>"
      ],
      "text/plain": [
       "    Phillippines   Indonesia       Malta       India\n",
       "0     Error Free  Error Free   Defective  Error Free\n",
       "1     Error Free  Error Free  Error Free   Defective\n",
       "2     Error Free   Defective   Defective  Error Free\n",
       "3     Error Free  Error Free  Error Free  Error Free\n",
       "4     Error Free  Error Free   Defective  Error Free\n",
       "..           ...         ...         ...         ...\n",
       "295   Error Free  Error Free  Error Free  Error Free\n",
       "296   Error Free  Error Free  Error Free  Error Free\n",
       "297   Error Free  Error Free   Defective  Error Free\n",
       "298   Error Free  Error Free  Error Free  Error Free\n",
       "299   Error Free   Defective   Defective  Error Free\n",
       "\n",
       "[300 rows x 4 columns]"
      ]
     },
     "execution_count": 3,
     "metadata": {},
     "output_type": "execute_result"
    }
   ],
   "source": [
    "telecall_data = pd.read_csv('Costomer+OrderForm.csv')\n",
    "telecall_data"
   ]
  },
  {
   "cell_type": "markdown",
   "id": "6b642e4b",
   "metadata": {},
   "source": [
    "#### H0 == The defective % does not varies by centre\n",
    "#### H1 == The defective % does varies by centre"
   ]
  },
  {
   "cell_type": "markdown",
   "id": "0afc06e8",
   "metadata": {},
   "source": [
    "# 4 - Chi-Square Test"
   ]
  },
  {
   "cell_type": "code",
   "execution_count": 6,
   "id": "ed742735",
   "metadata": {},
   "outputs": [
    {
     "data": {
      "text/plain": [
       "(<module 'scipy.stats' from 'C:\\\\Users\\\\shubham\\\\anaconda3\\\\lib\\\\site-packages\\\\scipy\\\\stats\\\\__init__.py'>,\n",
       " (3.8589606858203545,\n",
       "  0.2771020991233144,\n",
       "  3,\n",
       "  array([[271.75,  28.25],\n",
       "         [271.75,  28.25],\n",
       "         [271.75,  28.25],\n",
       "         [271.75,  28.25]])))"
      ]
     },
     "execution_count": 6,
     "metadata": {},
     "output_type": "execute_result"
    }
   ],
   "source": [
    "stats,chi2_contingency([telecall_data['Phillippines'].value_counts(), telecall_data['Indonesia'].value_counts(), telecall_data['Malta'].value_counts(), telecall_data['India'].value_counts()])"
   ]
  },
  {
   "cell_type": "markdown",
   "id": "996cd85b",
   "metadata": {},
   "source": [
    "##### P value of Chi-Square test == 0.277 > α"
   ]
  },
  {
   "cell_type": "markdown",
   "id": "dc8fa558",
   "metadata": {},
   "source": [
    "### Thus HO is accepted.\n",
    "### The defective % does not varies significantly by centres\n",
    " "
   ]
  },
  {
   "cell_type": "code",
   "execution_count": null,
   "id": "47d06c4d",
   "metadata": {},
   "outputs": [],
   "source": []
  }
 ],
 "metadata": {
  "kernelspec": {
   "display_name": "Python 3 (ipykernel)",
   "language": "python",
   "name": "python3"
  },
  "language_info": {
   "codemirror_mode": {
    "name": "ipython",
    "version": 3
   },
   "file_extension": ".py",
   "mimetype": "text/x-python",
   "name": "python",
   "nbconvert_exporter": "python",
   "pygments_lexer": "ipython3",
   "version": "3.9.12"
  }
 },
 "nbformat": 4,
 "nbformat_minor": 5
}
